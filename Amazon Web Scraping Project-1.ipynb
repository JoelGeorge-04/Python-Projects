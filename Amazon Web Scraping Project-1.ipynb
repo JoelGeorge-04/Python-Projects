{
 "cells": [
  {
   "cell_type": "code",
   "execution_count": 2,
   "id": "538ea53f-1833-4dd4-b07e-0112a6bc0da8",
   "metadata": {},
   "outputs": [],
   "source": [
    "from bs4 import BeautifulSoup\n",
    "import requests\n",
    "import time\n",
    "import datetime\n"
   ]
  },
  {
   "cell_type": "code",
   "execution_count": 3,
   "id": "3761eaf0-a8c3-40ce-bcc3-6c70d151dce2",
   "metadata": {
    "scrolled": true
   },
   "outputs": [],
   "source": [
    "url='https://www.amazon.com/SCREEN-Unisex-T-shirt-Windows-Computer/dp/B008LOFLW4/ref=sr_1_4?dib=eyJ2IjoiMSJ9.7t1k_0bKLy01yqdqIYTaChKBnWQ8nKjTt1rAjBCV8J8JeWE-Y5VPBVgUKy7zYF8KNiIPPaDbnjxrVA-Lekk52jKixeirJdMdevaXCrha4Ot9pR8s3c6sr7rvfxIZQvrfZbrIIAtKQiMVj53b6_ZD2WNnzHgUos8EC8l8wz2qY4avw1nYgnIw7yY5_g-NpRRHxQWxPpPbB1BmF8jElETSIb8I2f0Yxwvm-OB-vtoq9hv4Tw1BGsa6JCwYlxhC5eLXNcZz8-j7o7DedBNhZ0v_EybheqnqaqonSxEIs2idxIg.QtHOif8JmSlI5eassDZneiv2GLckK5VPOY7ppATGOsc&dib_tag=se&keywords=data+tshirt&qid=1756388030&sr=8-4'\n",
    "headers={ \"User-Agent\": \"Mozilla/5.0 (Windows NT 10.0; Win64; x64) AppleWebKit/537.36 (KHTML, like Gecko) Chrome/139.0.0.0 Safari/537.36 Edg/139.0.0.0\",\"Accept-Encoding\": \"gzip, deflate, br, zstd\", \"Accept\": \"text/html,application/xhtml+xml,application/xml;q=0.9,image/avif,image/webp,image/apng,*/*;q=0.8,application/signed-exchange;v=b3;q=0.7\",\"DNT\":\"1\",\"Connection\":\"close\", \"Upgrade-Insecure-Requests\":\"1\"}\n",
    "page=requests.get(url,headers=headers)\n",
    "soup1=BeautifulSoup(page.content,'html.parser')\n",
    "soup2=BeautifulSoup(soup1.prettify(),'html.parser')"
   ]
  },
  {
   "cell_type": "code",
   "execution_count": 41,
   "id": "be816016-9045-41b6-9bdf-a1afaf1241e7",
   "metadata": {},
   "outputs": [],
   "source": [
    "title=soup2.find(id='productTitle').get_text().strip()\n",
    "price=soup2.find(\"span\",{\"class\":\"a-offscreen\"}).get_text()"
   ]
  },
  {
   "cell_type": "code",
   "execution_count": 61,
   "id": "11d83358-71ed-4eb9-bedb-d588c9ff491f",
   "metadata": {},
   "outputs": [
    {
     "name": "stdout",
     "output_type": "stream",
     "text": [
      "2025-08-28\n"
     ]
    }
   ],
   "source": [
    "today=datetime.date.today()\n",
    "print(today)"
   ]
  },
  {
   "cell_type": "code",
   "execution_count": 63,
   "id": "afe6e586-a931-4dd8-8b29-18c44f440f7b",
   "metadata": {},
   "outputs": [],
   "source": [
    "import csv\n",
    "header=['Title', 'Price','Date']\n",
    "data=[title,price,today]\n",
    "\n",
    "with open('Amazon_web_scraping_dataset.csv','w',newline='',encoding='UTF8') as f:\n",
    "    writer=csv.writer(f)\n",
    "    writer.writerow(header)\n",
    "    writer.writerow(data)"
   ]
  },
  {
   "cell_type": "code",
   "execution_count": 67,
   "id": "7aa49867-caa2-4e7f-a9eb-646fdc27ece5",
   "metadata": {},
   "outputs": [
    {
     "data": {
      "text/html": [
       "<div>\n",
       "<style scoped>\n",
       "    .dataframe tbody tr th:only-of-type {\n",
       "        vertical-align: middle;\n",
       "    }\n",
       "\n",
       "    .dataframe tbody tr th {\n",
       "        vertical-align: top;\n",
       "    }\n",
       "\n",
       "    .dataframe thead th {\n",
       "        text-align: right;\n",
       "    }\n",
       "</style>\n",
       "<table border=\"1\" class=\"dataframe\">\n",
       "  <thead>\n",
       "    <tr style=\"text-align: right;\">\n",
       "      <th></th>\n",
       "      <th>Title</th>\n",
       "      <th>Price</th>\n",
       "      <th>Date</th>\n",
       "    </tr>\n",
       "  </thead>\n",
       "  <tbody>\n",
       "    <tr>\n",
       "      <th>0</th>\n",
       "      <td>Mens Name The Triangles Funny Math T Shirt Sar...</td>\n",
       "      <td>14.99</td>\n",
       "      <td>28-08-2025</td>\n",
       "    </tr>\n",
       "    <tr>\n",
       "      <th>1</th>\n",
       "      <td>Mens Name The Triangles Funny Math T Shirt Sar...</td>\n",
       "      <td>14.99</td>\n",
       "      <td>2025-08-28</td>\n",
       "    </tr>\n",
       "  </tbody>\n",
       "</table>\n",
       "</div>"
      ],
      "text/plain": [
       "                                               Title  Price        Date\n",
       "0  Mens Name The Triangles Funny Math T Shirt Sar...  14.99  28-08-2025\n",
       "1  Mens Name The Triangles Funny Math T Shirt Sar...  14.99  2025-08-28"
      ]
     },
     "execution_count": 67,
     "metadata": {},
     "output_type": "execute_result"
    }
   ],
   "source": [
    "import pandas as pd\n",
    "df=pd.read_csv(r\"C:\\Users\\JOEL\\Amazon_web_scraping_dataset.csv\")\n",
    "df"
   ]
  },
  {
   "cell_type": "code",
   "execution_count": 66,
   "id": "d49506a9-e405-4a05-b51f-42bcacbc799a",
   "metadata": {},
   "outputs": [],
   "source": [
    "with open('Amazon_web_scraping_dataset.csv','a+',newline='',encoding='UTF8') as f:\n",
    "    writer=csv.writer(f)\n",
    "    writer.writerow(data)"
   ]
  },
  {
   "cell_type": "code",
   "execution_count": null,
   "id": "81105fab-8e54-4ac2-892d-665129b5e08c",
   "metadata": {},
   "outputs": [],
   "source": [
    "def check_price():\n",
    "    url='https://www.amazon.com/Triangles-Funny-Shirts-Sarcasm-Novelty/dp/B00HWYQ28Q/ref=sr_1_3?crid=2V0WIY145K0M6&dib=eyJ2IjoiMSJ9.7t1k_0bKLy01yqdqIYTaChKBnWQ8nKjTt1rAjBCV8J8JeWE-Y5VPBVgUKy7zYF8KNiIPPaDbnjxrVA-Lekk52kNPeH5cW9w335HTFlAx_h4W5VhALNHpTVyxDLr9wm1I2rGSQsYkT015Q4hnfAWVO_WkYewdOTiPLKuMy4_Q7ZqPmkaw-lLFRWsCCHasCzSYECgC3XkKtK9Xg-QIFRmZFfhxArQi9Y86oAcfBpYhedPNFsvn-Suzvsegjl51gB0ES_p682wsDMUNpLMnr__eaqS0rq93Z6Yi8fTcNI4F_L8.eYC2vTRWOkNnOcUn0gj46s7OxjziEhL_IGzn4U8G6P4&dib_tag=se&keywords=data+tshirt&qid=1756367132&sprefix=data+tshirt%2Caps%2C528&sr=8-3'\n",
    "    page=requests.get(url)\n",
    "    soup1=BeautifulSoup(page.content,'html.parser')\n",
    "    soup2=BeautifulSoup(soup1.prettify(),'html.parser')\n",
    "    title=soup2.find(id=\"productTitle\").get_text().strip()\n",
    "    price=soup2.find(id='priceblock_ourprice').get_text().strip()\n",
    "    today=datetime.date.today()\n",
    "    import csv\n",
    "    header=['Title', 'Price','Date']\n",
    "    data=[title,price,today]\n",
    "\n",
    "    with open('Amazon_web_scraping_dataset.csv','a+',newline='',encoding='UTF8') as f:\n",
    "    writer=csv.writer(f)\n",
    "    writer.writerow(data) "
   ]
  },
  {
   "cell_type": "code",
   "execution_count": null,
   "id": "3dedad89-7532-454a-a4e1-a58749745d96",
   "metadata": {},
   "outputs": [],
   "source": [
    "while true():\n",
    "    check_price()"
   ]
  },
  {
   "cell_type": "code",
   "execution_count": null,
   "id": "2228022b-890b-436c-9132-dc04196be757",
   "metadata": {},
   "outputs": [],
   "source": []
  },
  {
   "cell_type": "code",
   "execution_count": null,
   "id": "1b057107-f9f4-4e63-b761-c6ff62a6da79",
   "metadata": {},
   "outputs": [],
   "source": []
  },
  {
   "cell_type": "code",
   "execution_count": null,
   "id": "2587fbd1-0cb7-46df-a2fb-6589ddb7a6ba",
   "metadata": {},
   "outputs": [],
   "source": []
  },
  {
   "cell_type": "code",
   "execution_count": null,
   "id": "18f6a7e9-38ab-47d7-807c-c9ac8505d3b0",
   "metadata": {},
   "outputs": [],
   "source": []
  },
  {
   "cell_type": "code",
   "execution_count": null,
   "id": "07d25bf8-59c2-4429-85eb-6de1b0856cf2",
   "metadata": {},
   "outputs": [],
   "source": []
  },
  {
   "cell_type": "code",
   "execution_count": null,
   "id": "f928f83d-ba51-41f2-9f64-c218b76cb24e",
   "metadata": {},
   "outputs": [],
   "source": []
  },
  {
   "cell_type": "code",
   "execution_count": null,
   "id": "2e547d1c-8025-4c6e-b5bf-3c71b9be7029",
   "metadata": {},
   "outputs": [],
   "source": []
  },
  {
   "cell_type": "code",
   "execution_count": null,
   "id": "1f85faf3-0110-4edc-95f9-12f5c54c6afd",
   "metadata": {},
   "outputs": [],
   "source": []
  },
  {
   "cell_type": "code",
   "execution_count": null,
   "id": "32e55065-cb80-4fee-88c7-f637efd4048c",
   "metadata": {},
   "outputs": [],
   "source": []
  },
  {
   "cell_type": "code",
   "execution_count": null,
   "id": "7044a091-912f-47f5-a227-9014c7393322",
   "metadata": {},
   "outputs": [],
   "source": []
  },
  {
   "cell_type": "code",
   "execution_count": null,
   "id": "14ffeda5-4955-4346-8784-0c5253e229ce",
   "metadata": {},
   "outputs": [],
   "source": []
  },
  {
   "cell_type": "code",
   "execution_count": null,
   "id": "cf3b4dcd-2398-48a4-a47b-3ce68607e4e8",
   "metadata": {},
   "outputs": [],
   "source": []
  },
  {
   "cell_type": "code",
   "execution_count": null,
   "id": "ce6a89b3-29af-4b87-b76d-d6d9f708932d",
   "metadata": {},
   "outputs": [],
   "source": []
  },
  {
   "cell_type": "code",
   "execution_count": null,
   "id": "65b969f9-d426-4940-8cc9-accc7ee22fff",
   "metadata": {},
   "outputs": [],
   "source": []
  },
  {
   "cell_type": "code",
   "execution_count": null,
   "id": "b9bb841c-2c9a-47cf-b13c-1e22fbb01752",
   "metadata": {},
   "outputs": [],
   "source": []
  },
  {
   "cell_type": "code",
   "execution_count": null,
   "id": "3b475b6b-24b9-4b8e-96f3-1dd24e0a1602",
   "metadata": {},
   "outputs": [],
   "source": []
  },
  {
   "cell_type": "code",
   "execution_count": null,
   "id": "a2d085cc-9c29-4f1a-a8dd-a86a15dc6751",
   "metadata": {},
   "outputs": [],
   "source": []
  },
  {
   "cell_type": "code",
   "execution_count": null,
   "id": "dcf86571-5b8f-4896-ac19-c38f1bbe6700",
   "metadata": {},
   "outputs": [],
   "source": []
  }
 ],
 "metadata": {
  "kernelspec": {
   "display_name": "Python [conda env:base] *",
   "language": "python",
   "name": "conda-base-py"
  },
  "language_info": {
   "codemirror_mode": {
    "name": "ipython",
    "version": 3
   },
   "file_extension": ".py",
   "mimetype": "text/x-python",
   "name": "python",
   "nbconvert_exporter": "python",
   "pygments_lexer": "ipython3",
   "version": "3.13.5"
  }
 },
 "nbformat": 4,
 "nbformat_minor": 5
}
