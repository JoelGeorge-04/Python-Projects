{
 "cells": [
  {
   "cell_type": "code",
   "execution_count": 98,
   "id": "f2b85f77-d040-43c8-acf7-938fdae21687",
   "metadata": {},
   "outputs": [],
   "source": [
    "from bs4 import BeautifulSoup\n",
    "import requests"
   ]
  },
  {
   "cell_type": "code",
   "execution_count": 99,
   "id": "b2924775-941b-4568-b7a0-571b4835e114",
   "metadata": {},
   "outputs": [],
   "source": [
    "url='https://stockanalysis.com/list/highest-revenue/'"
   ]
  },
  {
   "cell_type": "code",
   "execution_count": 100,
   "id": "03eb59c9-f5b2-4135-ae36-236fe805104b",
   "metadata": {},
   "outputs": [],
   "source": [
    "page=requests.get(url)"
   ]
  },
  {
   "cell_type": "code",
   "execution_count": 101,
   "id": "a21a2cd9-3b65-44fc-a887-82cb12215772",
   "metadata": {},
   "outputs": [],
   "source": [
    "soup=BeautifulSoup(page.text,'html')"
   ]
  },
  {
   "cell_type": "code",
   "execution_count": 1,
   "id": "ea7532b3-2b99-423e-a0bb-ab4fdaae490a",
   "metadata": {},
   "outputs": [],
   "source": [
    "print(soup)"
   ]
  },
  {
   "cell_type": "code",
   "execution_count": 2,
   "id": "c3cddad9-d24d-421e-9ad2-ba8fa19bf16d",
   "metadata": {
    "scrolled": true
   },
   "outputs": [],
   "source": [
    "soup.find('table')"
   ]
  },
  {
   "cell_type": "code",
   "execution_count": 3,
   "id": "8cce0e18-a5d7-4ce8-99d1-d74b3b85b805",
   "metadata": {
    "scrolled": true
   },
   "outputs": [],
   "source": [
    "soup.find_all('table')"
   ]
  },
  {
   "cell_type": "code",
   "execution_count": 105,
   "id": "d9cbca01-d21f-4bd9-814e-127b6fc9f219",
   "metadata": {},
   "outputs": [],
   "source": [
    "table=soup.find('table',class_=\"symbol-table svelte-1ro3niy\")"
   ]
  },
  {
   "cell_type": "code",
   "execution_count": 4,
   "id": "6a88d699-8aa0-4848-ba0e-0637236ea3df",
   "metadata": {
    "scrolled": true
   },
   "outputs": [],
   "source": [
    "print(table)"
   ]
  },
  {
   "cell_type": "code",
   "execution_count": 107,
   "id": "c67bfb9a-6dff-4ebc-8fc0-ef84154f786c",
   "metadata": {},
   "outputs": [],
   "source": [
    "world_titles=table.find_all('th')"
   ]
  },
  {
   "cell_type": "code",
   "execution_count": 5,
   "id": "469907a7-29d4-4c6c-a84d-eb3caa7efb9f",
   "metadata": {},
   "outputs": [],
   "source": [
    "world_titles"
   ]
  },
  {
   "cell_type": "code",
   "execution_count": 118,
   "id": "a2ca7133-87eb-4ced-83ec-c07943d16055",
   "metadata": {},
   "outputs": [
    {
     "name": "stdout",
     "output_type": "stream",
     "text": [
      "['No.', 'Symbol', 'Company Name', 'Revenue ', 'Stock Price', '% Change', 'Market Cap']\n"
     ]
    }
   ],
   "source": [
    "world_table_titles=[title.text for title in world_titles]\n",
    "print(world_table_titles)"
   ]
  },
  {
   "cell_type": "code",
   "execution_count": 110,
   "id": "509c7ca7-c6a3-4334-8be8-fa5b94615a87",
   "metadata": {},
   "outputs": [
    {
     "data": {
      "text/html": [
       "<div>\n",
       "<style scoped>\n",
       "    .dataframe tbody tr th:only-of-type {\n",
       "        vertical-align: middle;\n",
       "    }\n",
       "\n",
       "    .dataframe tbody tr th {\n",
       "        vertical-align: top;\n",
       "    }\n",
       "\n",
       "    .dataframe thead th {\n",
       "        text-align: right;\n",
       "    }\n",
       "</style>\n",
       "<table border=\"1\" class=\"dataframe\">\n",
       "  <thead>\n",
       "    <tr style=\"text-align: right;\">\n",
       "      <th></th>\n",
       "      <th>No.</th>\n",
       "      <th>Symbol</th>\n",
       "      <th>Company Name</th>\n",
       "      <th>Revenue</th>\n",
       "      <th>Stock Price</th>\n",
       "      <th>% Change</th>\n",
       "      <th>Market Cap</th>\n",
       "    </tr>\n",
       "  </thead>\n",
       "  <tbody>\n",
       "  </tbody>\n",
       "</table>\n",
       "</div>"
      ],
      "text/plain": [
       "Empty DataFrame\n",
       "Columns: [No., Symbol, Company Name, Revenue , Stock Price, % Change, Market Cap]\n",
       "Index: []"
      ]
     },
     "execution_count": 110,
     "metadata": {},
     "output_type": "execute_result"
    }
   ],
   "source": [
    "import pandas as pd\n",
    "df=pd.DataFrame(columns=world_table_titles)\n",
    "df"
   ]
  },
  {
   "cell_type": "code",
   "execution_count": 114,
   "id": "f7c97953-7251-4b7a-9bf1-45fe4c632b7b",
   "metadata": {},
   "outputs": [],
   "source": [
    "column_data=table.find_all('tr')"
   ]
  },
  {
   "cell_type": "code",
   "execution_count": 121,
   "id": "84a4d8b2-5782-4382-b02c-9987ba98b134",
   "metadata": {},
   "outputs": [],
   "source": [
    "for row in column_data[1:]:\n",
    "    row_data=row.find_all('td')\n",
    "    individual_row_data=[data.text for data in row_data]\n",
    "    length=len(df)\n",
    "    df.loc[length]=individual_row_data"
   ]
  },
  {
   "cell_type": "code",
   "execution_count": 122,
   "id": "48729b56-a185-45e4-9520-a8b197b50b69",
   "metadata": {},
   "outputs": [
    {
     "data": {
      "text/html": [
       "<div>\n",
       "<style scoped>\n",
       "    .dataframe tbody tr th:only-of-type {\n",
       "        vertical-align: middle;\n",
       "    }\n",
       "\n",
       "    .dataframe tbody tr th {\n",
       "        vertical-align: top;\n",
       "    }\n",
       "\n",
       "    .dataframe thead th {\n",
       "        text-align: right;\n",
       "    }\n",
       "</style>\n",
       "<table border=\"1\" class=\"dataframe\">\n",
       "  <thead>\n",
       "    <tr style=\"text-align: right;\">\n",
       "      <th></th>\n",
       "      <th>No.</th>\n",
       "      <th>Symbol</th>\n",
       "      <th>Company Name</th>\n",
       "      <th>Revenue</th>\n",
       "      <th>Stock Price</th>\n",
       "      <th>% Change</th>\n",
       "      <th>Market Cap</th>\n",
       "    </tr>\n",
       "  </thead>\n",
       "  <tbody>\n",
       "    <tr>\n",
       "      <th>0</th>\n",
       "      <td>1</td>\n",
       "      <td>WMT</td>\n",
       "      <td>Walmart Inc.</td>\n",
       "      <td>693.15B</td>\n",
       "      <td>96.05</td>\n",
       "      <td>-0.02%</td>\n",
       "      <td>766.52B</td>\n",
       "    </tr>\n",
       "    <tr>\n",
       "      <th>1</th>\n",
       "      <td>2</td>\n",
       "      <td>AMZN</td>\n",
       "      <td>Amazon.com, Inc.</td>\n",
       "      <td>670.04B</td>\n",
       "      <td>228.71</td>\n",
       "      <td>0.34%</td>\n",
       "      <td>2,439.17B</td>\n",
       "    </tr>\n",
       "    <tr>\n",
       "      <th>2</th>\n",
       "      <td>3</td>\n",
       "      <td>UNH</td>\n",
       "      <td>UnitedHealth Group Incorporated</td>\n",
       "      <td>422.82B</td>\n",
       "      <td>300.43</td>\n",
       "      <td>-1.45%</td>\n",
       "      <td>272.09B</td>\n",
       "    </tr>\n",
       "    <tr>\n",
       "      <th>3</th>\n",
       "      <td>4</td>\n",
       "      <td>AAPL</td>\n",
       "      <td>Apple Inc.</td>\n",
       "      <td>408.63B</td>\n",
       "      <td>229.31</td>\n",
       "      <td>0.95%</td>\n",
       "      <td>3,403.05B</td>\n",
       "    </tr>\n",
       "    <tr>\n",
       "      <th>4</th>\n",
       "      <td>5</td>\n",
       "      <td>CVS</td>\n",
       "      <td>CVS Health Corporation</td>\n",
       "      <td>384.33B</td>\n",
       "      <td>71.55</td>\n",
       "      <td>0.48%</td>\n",
       "      <td>90.75B</td>\n",
       "    </tr>\n",
       "    <tr>\n",
       "      <th>...</th>\n",
       "      <td>...</td>\n",
       "      <td>...</td>\n",
       "      <td>...</td>\n",
       "      <td>...</td>\n",
       "      <td>...</td>\n",
       "      <td>...</td>\n",
       "      <td>...</td>\n",
       "    </tr>\n",
       "    <tr>\n",
       "      <th>495</th>\n",
       "      <td>496</td>\n",
       "      <td>RL</td>\n",
       "      <td>Ralph Lauren Corporation</td>\n",
       "      <td>7.29B</td>\n",
       "      <td>293.20</td>\n",
       "      <td>2.02%</td>\n",
       "      <td>17.76B</td>\n",
       "    </tr>\n",
       "    <tr>\n",
       "      <th>496</th>\n",
       "      <td>497</td>\n",
       "      <td>GNW</td>\n",
       "      <td>Genworth Financial, Inc.</td>\n",
       "      <td>7.26B</td>\n",
       "      <td>8.61</td>\n",
       "      <td>-0.35%</td>\n",
       "      <td>3.53B</td>\n",
       "    </tr>\n",
       "    <tr>\n",
       "      <th>497</th>\n",
       "      <td>498</td>\n",
       "      <td>HBAN</td>\n",
       "      <td>Huntington Bancshares Incorporated</td>\n",
       "      <td>7.24B</td>\n",
       "      <td>17.49</td>\n",
       "      <td>1.16%</td>\n",
       "      <td>25.64B</td>\n",
       "    </tr>\n",
       "    <tr>\n",
       "      <th>498</th>\n",
       "      <td>499</td>\n",
       "      <td>CFG</td>\n",
       "      <td>Citizens Financial Group, Inc.</td>\n",
       "      <td>7.21B</td>\n",
       "      <td>51.31</td>\n",
       "      <td>1.22%</td>\n",
       "      <td>22.13B</td>\n",
       "    </tr>\n",
       "    <tr>\n",
       "      <th>499</th>\n",
       "      <td>500</td>\n",
       "      <td>CVI</td>\n",
       "      <td>CVR Energy, Inc.</td>\n",
       "      <td>7.19B</td>\n",
       "      <td>28.26</td>\n",
       "      <td>-0.56%</td>\n",
       "      <td>2.84B</td>\n",
       "    </tr>\n",
       "  </tbody>\n",
       "</table>\n",
       "<p>500 rows × 7 columns</p>\n",
       "</div>"
      ],
      "text/plain": [
       "     No. Symbol                        Company Name Revenue  Stock Price  \\\n",
       "0      1    WMT                        Walmart Inc.  693.15B       96.05   \n",
       "1      2   AMZN                    Amazon.com, Inc.  670.04B      228.71   \n",
       "2      3    UNH     UnitedHealth Group Incorporated  422.82B      300.43   \n",
       "3      4   AAPL                          Apple Inc.  408.63B      229.31   \n",
       "4      5    CVS              CVS Health Corporation  384.33B       71.55   \n",
       "..   ...    ...                                 ...      ...         ...   \n",
       "495  496     RL            Ralph Lauren Corporation    7.29B      293.20   \n",
       "496  497    GNW            Genworth Financial, Inc.    7.26B        8.61   \n",
       "497  498   HBAN  Huntington Bancshares Incorporated    7.24B       17.49   \n",
       "498  499    CFG      Citizens Financial Group, Inc.    7.21B       51.31   \n",
       "499  500    CVI                    CVR Energy, Inc.    7.19B       28.26   \n",
       "\n",
       "    % Change Market Cap  \n",
       "0     -0.02%    766.52B  \n",
       "1      0.34%  2,439.17B  \n",
       "2     -1.45%    272.09B  \n",
       "3      0.95%  3,403.05B  \n",
       "4      0.48%     90.75B  \n",
       "..       ...        ...  \n",
       "495    2.02%     17.76B  \n",
       "496   -0.35%      3.53B  \n",
       "497    1.16%     25.64B  \n",
       "498    1.22%     22.13B  \n",
       "499   -0.56%      2.84B  \n",
       "\n",
       "[500 rows x 7 columns]"
      ]
     },
     "execution_count": 122,
     "metadata": {},
     "output_type": "execute_result"
    }
   ],
   "source": [
    "df"
   ]
  },
  {
   "cell_type": "code",
   "execution_count": 7,
   "id": "4d785565-1d56-46b3-90a3-8583881fbdb0",
   "metadata": {},
   "outputs": [],
   "source": [
    "df.to_csv(r'D:\\Companies.csv',index=False)"
   ]
  },
  {
   "cell_type": "code",
   "execution_count": null,
   "id": "02e1eaa3-7011-4c5f-aa42-c3bfb90f344d",
   "metadata": {},
   "outputs": [],
   "source": []
  },
  {
   "cell_type": "code",
   "execution_count": null,
   "id": "c4ff8611-cb64-498c-8ab9-b231a8a5f070",
   "metadata": {},
   "outputs": [],
   "source": []
  },
  {
   "cell_type": "code",
   "execution_count": null,
   "id": "150ed511-43c1-432e-8a45-3f6076acecab",
   "metadata": {},
   "outputs": [],
   "source": []
  },
  {
   "cell_type": "code",
   "execution_count": null,
   "id": "a33f5fac-e77a-4845-8b82-331251aceaf6",
   "metadata": {},
   "outputs": [],
   "source": []
  },
  {
   "cell_type": "code",
   "execution_count": null,
   "id": "376c6bd0-f703-447f-92fb-c0b4f0accc2e",
   "metadata": {},
   "outputs": [],
   "source": []
  },
  {
   "cell_type": "code",
   "execution_count": null,
   "id": "478b04bb-7108-4deb-b00f-e01feb17afec",
   "metadata": {},
   "outputs": [],
   "source": []
  },
  {
   "cell_type": "code",
   "execution_count": null,
   "id": "47adc052-7c09-41f4-98c0-eb5a518b3e0c",
   "metadata": {},
   "outputs": [],
   "source": []
  }
 ],
 "metadata": {
  "kernelspec": {
   "display_name": "Python [conda env:base] *",
   "language": "python",
   "name": "conda-base-py"
  },
  "language_info": {
   "codemirror_mode": {
    "name": "ipython",
    "version": 3
   },
   "file_extension": ".py",
   "mimetype": "text/x-python",
   "name": "python",
   "nbconvert_exporter": "python",
   "pygments_lexer": "ipython3",
   "version": "3.13.5"
  }
 },
 "nbformat": 4,
 "nbformat_minor": 5
}
